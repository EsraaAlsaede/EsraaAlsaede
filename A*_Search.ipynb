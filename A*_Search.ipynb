{
  "nbformat": 4,
  "nbformat_minor": 0,
  "metadata": {
    "colab": {
      "name": "A*search algo.ipynb",
      "provenance": [],
      "collapsed_sections": [],
      "include_colab_link": true
    },
    "kernelspec": {
      "name": "python3",
      "display_name": "Python 3"
    },
    "language_info": {
      "name": "python"
    }
  },
  "cells": [
    {
      "cell_type": "markdown",
      "metadata": {
        "id": "view-in-github",
        "colab_type": "text"
      },
      "source": [
        "<a href=\"https://colab.research.google.com/github/EsraaAlsaede/EsraaAlsaede/blob/main/A*_Search.ipynb\" target=\"_parent\"><img src=\"https://colab.research.google.com/assets/colab-badge.svg\" alt=\"Open In Colab\"/></a>"
      ]
    },
    {
      "cell_type": "code",
      "source": [
        "from collections import deque\n",
        "class Graph:\n",
        "    def __init__(self, adjacency_list):\n",
        "        self.adjacency_list = adjacency_list\n",
        "    def get_neighbors(self, v):\n",
        "        return self.adjacency_list[v]\n",
        "    def h(self, n):\n",
        "        H = {'A': 4,'B': 3,'C': 2,'D': 1,'E': 3,'F': 2,'H': 1, 'G':0 }\n",
        "        return H[n]\n",
        "    def a_star_algorithm(self, start_node, stop_node):\n",
        "        open_list = set([start_node])\n",
        "        closed_list = set([])\n",
        "        g = {}\n",
        "        g[start_node] = 0\n",
        "        parents = {}\n",
        "        parents[start_node] = start_node\n",
        "        while len(open_list) > 0:\n",
        "            n = None\n",
        "            for v in open_list:\n",
        "                if n == None or g[v] + self.h(v) < g[n] + self.h(n):\n",
        "                    n = v;\n",
        "            if n == None:\n",
        "                print('Path does not exist!')\n",
        "                return None\n",
        "            if n == stop_node:\n",
        "                reconst_path = []\n",
        "                while parents[n] != n:\n",
        "                    reconst_path.append(n)\n",
        "                    n = parents[n]\n",
        "                reconst_path.append(start_node)\n",
        "                reconst_path.reverse()\n",
        "                print('Path found: {}'.format(reconst_path))\n",
        "                return reconst_path\n",
        "            for (m, weight) in self.get_neighbors(n):\n",
        "                if m not in open_list and m not in closed_list:\n",
        "                    open_list.add(m)\n",
        "                    parents[m] = n\n",
        "                    g[m] = g[n] + weight\n",
        "                else:\n",
        "                    if g[m] > g[n] + weight:\n",
        "                        g[m] = g[n] + weight\n",
        "                        parents[m] = n\n",
        "\n",
        "                        if m in closed_list:\n",
        "                            closed_list.remove(m)\n",
        "                            open_list.add(m)\n",
        "            open_list.remove(n)\n",
        "            closed_list.add(n)\n",
        "        print('Path does not exist!')\n",
        "        return None\n"
      ],
      "metadata": {
        "id": "pJC1XID4kg4E"
      },
      "execution_count": null,
      "outputs": []
    },
    {
      "cell_type": "code",
      "source": [
        "adjacency_list = {\n",
        "    'A': [('B', 2),('E', 4)],\n",
        "    'G': [('H',0),('D',0)],\n",
        "    'B': [('C',4),('A',2)],\n",
        "    'C': [('D',2),('B',4)],\n",
        "    'D': [('G',0)],\n",
        "    'E': [('F',2),('A',4)],\n",
        "    'F': [('H',4),('E',2)],\n",
        "    'H': [('G',0)],\n",
        "    \n",
        "}\n",
        "graph1 = Graph(adjacency_list)\n",
        "print(\"There is Four State:\")\n",
        "print(\"--------------------\")\n",
        "print(\"Enter Start State:\")\n",
        "x=input()\n",
        "#print(\"Enter Goal State:\")\n",
        "#y=input()\n",
        "graph1.a_star_algorithm(x,'G')"
      ],
      "metadata": {
        "colab": {
          "base_uri": "https://localhost:8080/"
        },
        "id": "4SSUuSsXkq26",
        "outputId": "1317a06f-aae6-466b-b304-19eb5c82a540"
      },
      "execution_count": null,
      "outputs": [
        {
          "output_type": "stream",
          "name": "stdout",
          "text": [
            "There is Four State:\n",
            "--------------------\n",
            "Enter Start State:\n",
            "C\n",
            "Path found: ['C', 'D', 'G']\n"
          ]
        },
        {
          "output_type": "execute_result",
          "data": {
            "text/plain": [
              "['C', 'D', 'G']"
            ]
          },
          "metadata": {},
          "execution_count": 6
        }
      ]
    }
  ]
}